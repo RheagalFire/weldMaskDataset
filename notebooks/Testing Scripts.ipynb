{
 "cells": [
  {
   "cell_type": "code",
   "execution_count": 14,
   "id": "6ae6631a",
   "metadata": {},
   "outputs": [],
   "source": [
    "import tensorflow as tf\n",
    "def test_images_from_model(model_file_dir,test_file_dir):\n",
    "    model = tf.keras.models.load_model(model_file_dir)\n",
    "    # image = PIL.Image.open('train_gen/burn through/frame_00031.png')\n",
    "    batch_size = 32\n",
    "    # img_height = 974\n",
    "    # img_width = 800\n",
    "    img_height = 100\n",
    "    img_width = 100\n",
    "    test_ds = tf.keras.utils.image_dataset_from_directory(\n",
    "      test_file_dir,\n",
    "    #     rescale=1.0/255.0\n",
    "      seed=0,\n",
    "      image_size=(img_height, img_width),\n",
    "    #     target_size = (100,100),\n",
    "        shuffle = False,\n",
    "      batch_size=batch_size)\n",
    "    predict = model.evaluate(test_ds)\n",
    "    return predict"
   ]
  },
  {
   "cell_type": "code",
   "execution_count": 15,
   "id": "6c324ba9",
   "metadata": {},
   "outputs": [
    {
     "name": "stdout",
     "output_type": "stream",
     "text": [
      "Found 4378 files belonging to 6 classes.\n",
      "137/137 [==============================] - 8s 59ms/step - loss: 8.5351 - accuracy: 0.1558\n"
     ]
    }
   ],
   "source": [
    "results = test_images_from_model('Al_defect_model','test_gen')"
   ]
  },
  {
   "cell_type": "code",
   "execution_count": 16,
   "id": "005e057c",
   "metadata": {},
   "outputs": [
    {
     "data": {
      "text/plain": [
       "[8.5350923538208, 0.1557788997888565]"
      ]
     },
     "execution_count": 16,
     "metadata": {},
     "output_type": "execute_result"
    }
   ],
   "source": [
    "results"
   ]
  },
  {
   "cell_type": "code",
   "execution_count": null,
   "id": "6b3b1830",
   "metadata": {},
   "outputs": [],
   "source": []
  }
 ],
 "metadata": {
  "kernelspec": {
   "display_name": "Python 3 (ipykernel)",
   "language": "python",
   "name": "python3"
  },
  "language_info": {
   "codemirror_mode": {
    "name": "ipython",
    "version": 3
   },
   "file_extension": ".py",
   "mimetype": "text/x-python",
   "name": "python",
   "nbconvert_exporter": "python",
   "pygments_lexer": "ipython3",
   "version": "3.9.0"
  }
 },
 "nbformat": 4,
 "nbformat_minor": 5
}
